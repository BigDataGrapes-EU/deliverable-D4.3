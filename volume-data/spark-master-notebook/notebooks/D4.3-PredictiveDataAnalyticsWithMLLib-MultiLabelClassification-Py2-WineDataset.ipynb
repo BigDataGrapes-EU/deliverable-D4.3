{
 "cells": [
  {
   "cell_type": "markdown",
   "metadata": {},
   "source": [
    "<img src=\"images/BDG_LOGO.png\" alt=\"drawing\" align=\"right\" width=\"200\"/>\n",
    "\n",
    "# H2020 RIA BigDataGrapes - Predictive Data Analytics (T4.3)\n",
    "\n",
    "### This deliverable (D4.3) presents how to train machine learning models with the BigDataGrapes distributed processing architecture. In particular, we present how to train classifiers with MLLib (https://spark.apache.org/mllib/)."
   ]
  },
  {
   "cell_type": "code",
   "execution_count": 1,
   "metadata": {},
   "outputs": [],
   "source": [
    "from pyspark import SparkContext"
   ]
  },
  {
   "cell_type": "code",
   "execution_count": 2,
   "metadata": {},
   "outputs": [],
   "source": [
    "import math\n",
    "import urllib\n",
    "import random\n",
    "import numpy as np\n",
    "import pydoop.hdfs as hdfs\n",
    "\n",
    "from numpy import array\n",
    "from pyspark.mllib.regression import LabeledPoint"
   ]
  },
  {
   "cell_type": "code",
   "execution_count": 3,
   "metadata": {},
   "outputs": [],
   "source": [
    "%matplotlib inline\n",
    "import matplotlib.pyplot as plt"
   ]
  },
  {
   "cell_type": "markdown",
   "metadata": {},
   "source": [
    "## Connection to the BDG Apache Spark"
   ]
  },
  {
   "cell_type": "code",
   "execution_count": 4,
   "metadata": {},
   "outputs": [],
   "source": [
    "# standalone mode below\n",
    "#sc = SparkContext(appName=\"Classification-WineDataset\", master=\"master[*]\")\n",
    "\n",
    "# distributed mode below\n",
    "sc = SparkContext(appName=\"Classification-WineDataset\", master=\"spark://spark-master:7077\")\n",
    "\n",
    "# setting logger level\n",
    "sc.setLogLevel(\"ERROR\")"
   ]
  },
  {
   "cell_type": "markdown",
   "metadata": {},
   "source": [
    "# Classification on a real dataset\n",
    "\n",
    "## We employ a subset of the Red Wine Quality Dataset made available on Kaggle (https://www.kaggle.com/piyushgoyal443/red-wine-dataset/discussion).\n",
    "\n",
    "### The dataset is related to red variants of the Portuguese \"Vinho Verde\" wine. For more details, consult: http://www.vinhoverde.pt/en/ or the reference [Cortez et al., 2009]. Due to privacy and logistic issues, only physicochemical (inputs) and sensory (the output) variables are available (e.g. there is no data about grape types, wine brand, wine selling price, etc.).\n",
    "\n",
    "### The dataset can be viewed as classification or regression tasks. The classes are ordered and not balanced (e.g. there are munch more normal wines than excellent or poor ones). Outlier detection algorithms could be used to detect the few excellent or poor wines. Also, we are not sure if all input variables are relevant. So it could be interesting to test feature selection methods.\n",
    "\n",
    "### Dataset Properties\n",
    "\n",
    "#### Number of Instances: red wine - 1599.\n",
    "#### Number of Attributes: 11 + output attribute\n",
    "#### Note: several of the attributes may be correlated, thus it makes sense to apply some sort of feature selection.\n",
    "\n",
    "### Attribute information:\n",
    "\n",
    "#### Input variables: (based on physicochemical tests): fixed acidity (tartaric acid - g / dm^3), volatile acidity (acetic acid - g / dm^3), citric acid (g / dm^3), residual sugar (g / dm^3), chlorides (sodium chloride - g / dm^3, free sulfur dioxide (mg / dm^3), total sulfur dioxide (mg / dm^3), density (g / cm^3), pH, sulphates (potassium sulphate - g / dm3), alcohol (% by volume)\n",
    "\n",
    "### Description of attributes:\n",
    "\n",
    "1. fixed acidity: most acids involved with wine or fixed or nonvolatile (do not evaporate readily)\n",
    "2. volatile acidity: the amount of acetic acid in wine, which at too high of levels can lead to an unpleasant, vinegar taste\n",
    "3. citric acid: found in small quantities, citric acid can add 'freshness' and flavor to wines\n",
    "4. residual sugar: the amount of sugar remaining after fermentation stops, it's rare to find wines with less than 1 gram/liter and wines with greater than 45 grams/liter are considered sweet\n",
    "5. chlorides: the amount of salt in the wine\n",
    "6. free sulfur dioxide: the free form of SO2 exists in equilibrium between molecular SO2 (as a dissolved gas) and bisulfite ion; it prevents microbial growth and the oxidation of wine\n",
    "7. total sulfur dioxide: amount of free and bound forms of S02; in low concentrations, SO2 is mostly undetectable in wine, but at free SO2 concentrations over 50 ppm, SO2 becomes evident in the nose and taste of wine\n",
    "8. density: the density of water is close to that of water depending on the percent alcohol and sugar content\n",
    "9. pH: describes how acidic or basic a wine is on a scale from 0 (very acidic) to 14 (very basic); most wines are between 3-4 on the pH scale\n",
    "10. sulphates: a wine additive which can contribute to sulfur dioxide gas (S02) levels, wich acts as an antimicrobial and antioxidant\n",
    "11. alcohol: the percent alcohol content of the wine\n",
    "\n",
    "#### Missing Attribute Values: None\n",
    "\n",
    "#### Output variable (based on sensory data): quality (score between 0 and 10)\n",
    "\n",
    "### For more information:\n",
    "\n",
    "*  [Cortez et al., 2009] P. Cortez, A. Cerdeira, F. Almeida, T. Matos and J. Reis. **Modeling wine preferences by data mining from physicochemical properties**. In Decision Support Systems, Elsevier, 47(4):547-553. ISSN: 0167-9236."
   ]
  },
  {
   "cell_type": "markdown",
   "metadata": {},
   "source": [
    "## Storing the dataset on Apache HDFS and Reading it with Apache Spark (creating RDDs)"
   ]
  },
  {
   "cell_type": "code",
   "execution_count": 5,
   "metadata": {},
   "outputs": [],
   "source": [
    "# data format:\n",
    "#   \"fixed.acidity\",\"volatile.acidity\",\"citric.acid\",\"residual.sugar\",\"chlorides\",\n",
    "#     \"free.sulfur.dioxide\",\"total.sulfur.dioxide\",\"density\",\"pH\",\"sulphates\",\"alcohol\",\"quality\"\n",
    "\n",
    "# train data\n",
    "path_on_disk = \"datasets/wineQualityReds-train.csv\"\n",
    "path_on_hdfs = \"hdfs://namenode:8020/user/root/wineQualityReds-train01.csv\"\n",
    "# hdfs.put(path_on_disk, path_on_hdfs)\n",
    "train_data = sc.textFile(path_on_hdfs)\n",
    "\n",
    "# train data\n",
    "test_path_on_disk = \"datasets/wineQualityReds-test.csv\"\n",
    "test_path_on_hdfs = \"hdfs://namenode:8020/user/root/wineQualityReds-test01.csv\"\n",
    "# hdfs.put(test_path_on_disk, test_path_on_hdfs)\n",
    "test_data = sc.textFile(test_path_on_hdfs)"
   ]
  },
  {
   "cell_type": "code",
   "execution_count": 6,
   "metadata": {},
   "outputs": [],
   "source": [
    "# parsing data.\n",
    "# first 11 fields, features\n",
    "# last field, quality\n",
    "\n",
    "def parse_interaction(line):\n",
    "    line_split = line.split(\",\")\n",
    "    features = line_split[0:11]\n",
    "    quality = line_split[11]\n",
    "    return LabeledPoint(float(quality), array([float(x) for x in features]))"
   ]
  },
  {
   "cell_type": "code",
   "execution_count": 7,
   "metadata": {},
   "outputs": [],
   "source": [
    "parsed_train_data = train_data.map(parse_interaction)\n",
    "parsed_test_data = test_data.map(parse_interaction)"
   ]
  },
  {
   "cell_type": "markdown",
   "metadata": {},
   "source": [
    "# Multi-label Classification"
   ]
  },
  {
   "cell_type": "markdown",
   "metadata": {},
   "source": [
    "## Now training one Classifier.\n",
    "\n",
    "### In this task, each grade of quality {1,2,...,10} is a specific class to guess.\n",
    "\n",
    "### We also measure the time needed by MLLib to train it."
   ]
  },
  {
   "cell_type": "code",
   "execution_count": 8,
   "metadata": {},
   "outputs": [
    {
     "name": "stdout",
     "output_type": "stream",
     "text": [
      "CPU times: user 24 ms, sys: 4 ms, total: 28 ms\n",
      "Wall time: 8.3 s\n"
     ]
    }
   ],
   "source": [
    "from pyspark.mllib.classification import LogisticRegressionWithLBFGS\n",
    "\n",
    "%time model = LogisticRegressionWithLBFGS.train(parsed_train_data, iterations=1, numClasses=10)"
   ]
  },
  {
   "cell_type": "code",
   "execution_count": 9,
   "metadata": {},
   "outputs": [],
   "source": [
    "labels_and_preds = parsed_test_data.map(lambda p: (p.label, model.predict(p.features)))"
   ]
  },
  {
   "cell_type": "markdown",
   "metadata": {},
   "source": [
    "## Evaluation of the performance of the classifier (Accuracy)"
   ]
  },
  {
   "cell_type": "code",
   "execution_count": 10,
   "metadata": {},
   "outputs": [
    {
     "name": "stdout",
     "output_type": "stream",
     "text": [
      "CPU times: user 12 ms, sys: 4 ms, total: 16 ms\n",
      "Wall time: 436 ms\n",
      "Accuracy on test data is 0.4361\n"
     ]
    }
   ],
   "source": [
    "%time test_accuracy = labels_and_preds.filter(lambda (v, p): v == p).count() / float(test_data.count())\n",
    "print \"Accuracy on test data is {}\".format(round(test_accuracy, 4))"
   ]
  },
  {
   "cell_type": "markdown",
   "metadata": {},
   "source": [
    "## Disconnection from the BDG Apache Spark"
   ]
  },
  {
   "cell_type": "code",
   "execution_count": 11,
   "metadata": {},
   "outputs": [],
   "source": [
    "sc.stop()"
   ]
  },
  {
   "cell_type": "code",
   "execution_count": null,
   "metadata": {},
   "outputs": [],
   "source": []
  }
 ],
 "metadata": {
  "kernelspec": {
   "display_name": "Python 2",
   "language": "python",
   "name": "python2"
  },
  "language_info": {
   "codemirror_mode": {
    "name": "ipython",
    "version": 2
   },
   "file_extension": ".py",
   "mimetype": "text/x-python",
   "name": "python",
   "nbconvert_exporter": "python",
   "pygments_lexer": "ipython2",
   "version": "2.7.9"
  }
 },
 "nbformat": 4,
 "nbformat_minor": 2
}
