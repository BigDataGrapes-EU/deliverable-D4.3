{
 "cells": [
  {
   "cell_type": "markdown",
   "metadata": {
    "Collapsed": "false"
   },
   "source": [
    "<img src=\"../images/BDG_LOGO.png\" alt=\"drawing\" align=\"right\" width=\"200\"/>\n",
    "\n",
    "# H2020 RIA BigDataGrapes - Predictive Data Analytics (T4.3)\n",
    "\n",
    "## Farm Management Pilot\n",
    "\n",
    "### This pilot is described in the deliverable D4.3 (Pilot 3).\n",
    "\n",
    "The specific goal of the price prediction is is to develop a machine-learning component that performs water balance prediction using meteorological data from weather stations and soil data."
   ]
  },
  {
   "cell_type": "code",
   "execution_count": 2,
   "metadata": {
    "Collapsed": "false"
   },
   "outputs": [
    {
     "name": "stdout",
     "output_type": "stream",
     "text": [
      "Requirement already satisfied: pandas in /usr/local/lib/python3.6/dist-packages (1.0.4)\n",
      "Requirement already satisfied: scikit-learn in /usr/local/lib/python3.6/dist-packages (0.21.3)\n",
      "Requirement already satisfied: rankeval in /usr/local/lib/python3.6/dist-packages (0.8.2)\n",
      "Requirement already satisfied: numpy>=1.13.3 in /usr/local/lib/python3.6/dist-packages (from pandas) (1.18.5)\n",
      "Requirement already satisfied: pytz>=2017.2 in /usr/local/lib/python3.6/dist-packages (from pandas) (2020.1)\n",
      "Requirement already satisfied: python-dateutil>=2.6.1 in /usr/local/lib/python3.6/dist-packages (from pandas) (2.8.1)\n",
      "Requirement already satisfied: scipy>=0.17.0 in /usr/local/lib/python3.6/dist-packages (from scikit-learn) (1.4.1)\n",
      "Requirement already satisfied: joblib>=0.11 in /usr/local/lib/python3.6/dist-packages (from scikit-learn) (0.13.2)\n",
      "Requirement already satisfied: seaborn>=0.8 in /usr/local/lib/python3.6/dist-packages (from rankeval) (0.10.1)\n",
      "Requirement already satisfied: six>=1.9.0 in /usr/local/lib/python3.6/dist-packages (from rankeval) (1.15.0)\n",
      "Requirement already satisfied: matplotlib>=2.0.2 in /usr/local/lib/python3.6/dist-packages (from rankeval) (3.2.1)\n",
      "Requirement already satisfied: xarray>=0.10.9 in /usr/local/lib/python3.6/dist-packages (from rankeval) (0.15.1)\n",
      "Requirement already satisfied: kiwisolver>=1.0.1 in /usr/local/lib/python3.6/dist-packages (from matplotlib>=2.0.2->rankeval) (1.2.0)\n",
      "Requirement already satisfied: pyparsing!=2.0.4,!=2.1.2,!=2.1.6,>=2.0.1 in /usr/local/lib/python3.6/dist-packages (from matplotlib>=2.0.2->rankeval) (2.4.7)\n",
      "Requirement already satisfied: cycler>=0.10 in /usr/local/lib/python3.6/dist-packages (from matplotlib>=2.0.2->rankeval) (0.10.0)\n",
      "Requirement already satisfied: setuptools>=41.2 in /usr/local/lib/python3.6/dist-packages (from xarray>=0.10.9->rankeval) (47.1.1)\n"
     ]
    }
   ],
   "source": [
    "!pip install --user pandas scikit-learn rankeval"
   ]
  },
  {
   "cell_type": "code",
   "execution_count": 3,
   "metadata": {
    "Collapsed": "false"
   },
   "outputs": [],
   "source": [
    "import pandas as pd\n",
    "from sklearn.model_selection import train_test_split\n",
    "from sklearn.ensemble import GradientBoostingRegressor\n",
    "from sklearn.metrics import mean_squared_error, max_error, make_scorer\n",
    "from sklearn.preprocessing import MinMaxScaler\n",
    "\n",
    "import matplotlib.pyplot as plt\n",
    "\n",
    "import pickle\n",
    "import rankeval"
   ]
  },
  {
   "cell_type": "markdown",
   "metadata": {
    "Collapsed": "false"
   },
   "source": [
    "# Load the \"Il Palazzo\" dataset"
   ]
  },
  {
   "cell_type": "markdown",
   "metadata": {
    "Collapsed": "false"
   },
   "source": [
    "## Load the features"
   ]
  },
  {
   "cell_type": "code",
   "execution_count": 22,
   "metadata": {
    "Collapsed": "false"
   },
   "outputs": [
    {
     "data": {
      "text/plain": [
       "array([[12.12, 18.89,  4.81, ..., 13.8 , 13.4 ,  3.3 ],\n",
       "       [12.46, 20.77,  6.12, ..., 13.8 , 13.6 ,  2.4 ],\n",
       "       [12.3 , 21.03,  3.29, ..., 13.9 , 13.6 ,  2.9 ],\n",
       "       ...,\n",
       "       [12.42, 20.59,  6.58, ..., 17.6 , 17.3 ,  1.  ],\n",
       "       [14.04, 18.99, 10.5 , ..., 17.4 , 17.2 ,  0.7 ],\n",
       "       [14.92, 18.94, 12.85, ..., 17.4 , 17.2 ,  0.7 ]])"
      ]
     },
     "execution_count": 22,
     "metadata": {},
     "output_type": "execute_result"
    }
   ],
   "source": [
    "df_feature = pd.read_csv(\"./data/palazzo/ilpalazzo2019_features.csv\", header=None, sep=';', decimal=',')\n",
    "df_feature = df_feature.drop(columns=0)\n",
    "df_feature = df_feature.apply(pd.to_numeric, errors='coerce', )\n",
    "\n",
    "X_ilpalazzo = df_feature.values\n",
    "X_ilpalazzo"
   ]
  },
  {
   "cell_type": "markdown",
   "metadata": {
    "Collapsed": "false"
   },
   "source": [
    "## Load the labels and normalize them"
   ]
  },
  {
   "cell_type": "code",
   "execution_count": 23,
   "metadata": {
    "Collapsed": "false"
   },
   "outputs": [],
   "source": [
    "df_label = pd.read_csv(\"./data/palazzo/ilpalazzo2019_label.csv\", header=None, sep=';', usecols=[2])\n",
    "\n",
    "y_ilpalazzo = df_label.values.ravel()\n",
    "\n",
    "scaler_ilpalazzo = MinMaxScaler()\n",
    "y_ilpalazzo = scaler_ilpalazzo.fit_transform(y_ilpalazzo[:, np.newaxis]).ravel()"
   ]
  },
  {
   "cell_type": "markdown",
   "metadata": {
    "Collapsed": "false"
   },
   "source": [
    "## Plot the distributions of the normalized labels"
   ]
  },
  {
   "cell_type": "code",
   "execution_count": 24,
   "metadata": {
    "Collapsed": "false"
   },
   "outputs": [
    {
     "data": {
      "image/png": "[encoded data removed]",
      "text/plain": [
       "<Figure size 432x288 with 1 Axes>"
      ]
     },
     "metadata": {
      "needs_background": "light"
     },
     "output_type": "display_data"
    }
   ],
   "source": [
    "plt.hist(y_ilpalazzo, bins=20)\n",
    "plt.show()"
   ]
  },
  {
   "cell_type": "markdown",
   "metadata": {
    "Collapsed": "false"
   },
   "source": [
    "# Load the \"Casato Prime Donne\" dataset"
   ]
  },
  {
   "cell_type": "markdown",
   "metadata": {
    "Collapsed": "false"
   },
   "source": [
    "## Load the features"
   ]
  },
  {
   "cell_type": "code",
   "execution_count": 25,
   "metadata": {
    "Collapsed": "false"
   },
   "outputs": [
    {
     "data": {
      "text/plain": [
       "array([[11.51, 19.5 ,  3.64, ..., 14.1 , 13.5 ,  2.9 ],\n",
       "       [12.85, 21.39,  7.03, ..., 13.9 , 13.6 ,  3.1 ],\n",
       "       [12.42, 21.26,  3.63, ..., 14.1 , 13.7 ,  4.1 ],\n",
       "       ...,\n",
       "       [14.87, 20.96,  9.95, ..., 18.9 , 18.6 ,  1.6 ],\n",
       "       [13.52, 22.32,  7.06, ..., 18.8 , 18.5 ,  1.6 ],\n",
       "       [13.81, 22.26,  6.82, ..., 18.5 , 18.2 ,  1.4 ]])"
      ]
     },
     "execution_count": 25,
     "metadata": {},
     "output_type": "execute_result"
    }
   ],
   "source": [
    "df_feature = pd.read_csv(\"./data/casatoprimedonne/casatoprimedonne2019_features.csv\", header=None, sep=';', decimal=',')\n",
    "df_feature = df_feature.drop(columns=0)\n",
    "df_feature = df_feature.apply(pd.to_numeric, errors='coerce', )\n",
    "\n",
    "X_casato = df_feature.values\n",
    "X_casato"
   ]
  },
  {
   "cell_type": "markdown",
   "metadata": {
    "Collapsed": "false"
   },
   "source": [
    "## Load the labels and normalize them"
   ]
  },
  {
   "cell_type": "code",
   "execution_count": 26,
   "metadata": {
    "Collapsed": "false"
   },
   "outputs": [],
   "source": [
    "df_label = pd.read_csv(\"./data/casatoprimedonne/casatoprimedonne2019_label.csv\", header=None, sep=';', usecols=[1])\n",
    "\n",
    "y_casato = df_label.values.ravel()\n",
    "\n",
    "scaler_casato = MinMaxScaler()\n",
    "y_casato = scaler_casato.fit_transform(y_casato[:, np.newaxis]).ravel()"
   ]
  },
  {
   "cell_type": "markdown",
   "metadata": {
    "Collapsed": "false"
   },
   "source": [
    "## Plot the distributions of the normalized labels"
   ]
  },
  {
   "cell_type": "code",
   "execution_count": 27,
   "metadata": {
    "Collapsed": "false"
   },
   "outputs": [
    {
     "data": {
      "image/png": "[encoded data removed]",
      "text/plain": [
       "<Figure size 432x288 with 1 Axes>"
      ]
     },
     "metadata": {
      "needs_background": "light"
     },
     "output_type": "display_data"
    }
   ],
   "source": [
    "plt.hist(y_casato, bins=20)\n",
    "plt.show()"
   ]
  },
  {
   "cell_type": "markdown",
   "metadata": {
    "Collapsed": "false"
   },
   "source": [
    "# Concatenate the two datasets and shuffle them"
   ]
  },
  {
   "cell_type": "code",
   "execution_count": 28,
   "metadata": {
    "Collapsed": "false"
   },
   "outputs": [],
   "source": [
    "X = np.concatenate((X_casato, X_ilpalazzo))\n",
    "y = np.concatenate((y_casato, y_ilpalazzo))\n",
    "\n",
    "reordered_rows = np.random.permutation(np.arange(X.shape[0]))\n",
    "X = X[reordered_rows]\n",
    "y = y[reordered_rows]"
   ]
  },
  {
   "cell_type": "markdown",
   "metadata": {
    "Collapsed": "false"
   },
   "source": [
    "# Train/Test Split"
   ]
  },
  {
   "cell_type": "code",
   "execution_count": 29,
   "metadata": {
    "Collapsed": "false"
   },
   "outputs": [],
   "source": [
    "X_train, X_test, y_train, y_test = train_test_split(X, y, test_size=0.20, random_state=42)"
   ]
  },
  {
   "cell_type": "markdown",
   "metadata": {
    "Collapsed": "false"
   },
   "source": [
    "# Performs the Cross Validation of several learning models"
   ]
  },
  {
   "cell_type": "code",
   "execution_count": 30,
   "metadata": {
    "Collapsed": "false"
   },
   "outputs": [
    {
     "name": "stdout",
     "output_type": "stream",
     "text": [
      "LinearRegression - RMSE: 0.23 (+/- 0.21)\n",
      "Ridge - RMSE: 0.22 (+/- 0.21)\n",
      "Lasso - RMSE: 0.26 (+/- 0.03)\n",
      "BayesianRidge - RMSE: 0.20 (+/- 0.21)\n",
      "SVR - RMSE: 0.12 (+/- 0.03)\n",
      "RandomForestRegressor - RMSE: 0.09 (+/- 0.03)\n",
      "GradientBoostingRegressor - RMSE: 0.09 (+/- 0.02)\n",
      "VotingRegressor - RMSE: 0.14 (+/- 0.08)\n"
     ]
    }
   ],
   "source": [
    "from sklearn.model_selection import cross_val_score\n",
    "from sklearn.linear_model import Ridge, Lasso, LinearRegression, BayesianRidge\n",
    "from sklearn.svm import SVR\n",
    "from sklearn.ensemble import RandomForestRegressor, VotingRegressor, GradientBoostingRegressor\n",
    "\n",
    "estimators = [\n",
    "    LinearRegression(), \n",
    "    Ridge(), \n",
    "    Lasso(), \n",
    "    BayesianRidge(), \n",
    "    SVR(degree=1, gamma='scale'), \n",
    "    RandomForestRegressor(n_estimators=500), \n",
    "    GradientBoostingRegressor(n_estimators=500, validation_fraction=0.16),\n",
    "]\n",
    "estimators.append(VotingRegressor(estimators=[(est.__class__.__name__, est) for est in estimators]))\n",
    "\n",
    "data = []\n",
    "for clf in estimators:\n",
    "\n",
    "    # neg_mean_squared_error_scorer = make_scorer(mean_squared_error, greater_is_better=False)\n",
    "\n",
    "    scores = cross_val_score(clf, X, y, cv=5, scoring='neg_mean_squared_error')\n",
    "    scores = np.sqrt(scores * -1)\n",
    "    data.append((clf.__class__.__name__, scores.mean(), scores.std() * 2))\n",
    "    print(f\"{clf.__class__.__name__} - RMSE: %0.2f (+/- %0.2f)\" % (scores.mean(), scores.std() * 2))"
   ]
  },
  {
   "cell_type": "markdown",
   "metadata": {
    "Collapsed": "false"
   },
   "source": [
    "## Add a Neural Network model to the comparison"
   ]
  },
  {
   "cell_type": "code",
   "execution_count": 31,
   "metadata": {
    "Collapsed": "false"
   },
   "outputs": [
    {
     "name": "stdout",
     "output_type": "stream",
     "text": [
      "RMSE: 0.13 (+/- 0.07)\n"
     ]
    }
   ],
   "source": [
    "from sklearn.neural_network import MLPRegressor\n",
    "from sklearn.preprocessing import StandardScaler\n",
    "\n",
    "std_scale = StandardScaler().fit(X)\n",
    "X_scaled = std_scale.transform(X)\n",
    "\n",
    "clf = MLPRegressor(solver='adam', alpha=1e-5, activation='relu', batch_size=50, max_iter=1000, validation_fraction=0.16,\n",
    "                   hidden_layer_sizes=(50, 25, 1), random_state=1)\n",
    "\n",
    "scores = cross_val_score(clf, X_scaled, y, cv=5, scoring='neg_mean_squared_error')\n",
    "scores = np.sqrt(scores * -1)\n",
    "data.append((clf.__class__.__name__, scores.mean(), scores.std() * 2))\n",
    "print(\"RMSE: %0.2f (+/- %0.2f)\" % (scores.mean(), scores.std() * 2))"
   ]
  },
  {
   "cell_type": "markdown",
   "metadata": {
    "Collapsed": "false"
   },
   "source": [
    "# Print the final result in a tabular view (sort ascending by RMSE)"
   ]
  },
  {
   "cell_type": "code",
   "execution_count": 32,
   "metadata": {
    "Collapsed": "false"
   },
   "outputs": [
    {
     "data": {
      "text/html": [
       "<div>\n",
       "<style scoped>\n",
       "    .dataframe tbody tr th:only-of-type {\n",
       "        vertical-align: middle;\n",
       "    }\n",
       "\n",
       "    .dataframe tbody tr th {\n",
       "        vertical-align: top;\n",
       "    }\n",
       "\n",
       "    .dataframe thead th {\n",
       "        text-align: right;\n",
       "    }\n",
       "</style>\n",
       "<table border=\"1\" class=\"dataframe\">\n",
       "  <thead>\n",
       "    <tr style=\"text-align: right;\">\n",
       "      <th></th>\n",
       "      <th>Model</th>\n",
       "      <th>RMSE</th>\n",
       "      <th>STD DEV</th>\n",
       "    </tr>\n",
       "  </thead>\n",
       "  <tbody>\n",
       "    <tr>\n",
       "      <th>6</th>\n",
       "      <td>GradientBoostingRegressor</td>\n",
       "      <td>0.092149</td>\n",
       "      <td>0.021161</td>\n",
       "    </tr>\n",
       "    <tr>\n",
       "      <th>5</th>\n",
       "      <td>RandomForestRegressor</td>\n",
       "      <td>0.093598</td>\n",
       "      <td>0.027035</td>\n",
       "    </tr>\n",
       "    <tr>\n",
       "      <th>4</th>\n",
       "      <td>SVR</td>\n",
       "      <td>0.118373</td>\n",
       "      <td>0.027233</td>\n",
       "    </tr>\n",
       "    <tr>\n",
       "      <th>8</th>\n",
       "      <td>MLPRegressor</td>\n",
       "      <td>0.125809</td>\n",
       "      <td>0.069285</td>\n",
       "    </tr>\n",
       "    <tr>\n",
       "      <th>7</th>\n",
       "      <td>VotingRegressor</td>\n",
       "      <td>0.135782</td>\n",
       "      <td>0.076322</td>\n",
       "    </tr>\n",
       "    <tr>\n",
       "      <th>3</th>\n",
       "      <td>BayesianRidge</td>\n",
       "      <td>0.204234</td>\n",
       "      <td>0.206265</td>\n",
       "    </tr>\n",
       "    <tr>\n",
       "      <th>1</th>\n",
       "      <td>Ridge</td>\n",
       "      <td>0.217434</td>\n",
       "      <td>0.206341</td>\n",
       "    </tr>\n",
       "    <tr>\n",
       "      <th>0</th>\n",
       "      <td>LinearRegression</td>\n",
       "      <td>0.227946</td>\n",
       "      <td>0.212838</td>\n",
       "    </tr>\n",
       "    <tr>\n",
       "      <th>2</th>\n",
       "      <td>Lasso</td>\n",
       "      <td>0.261325</td>\n",
       "      <td>0.025370</td>\n",
       "    </tr>\n",
       "  </tbody>\n",
       "</table>\n",
       "</div>"
      ],
      "text/plain": [
       "                       Model      RMSE   STD DEV\n",
       "6  GradientBoostingRegressor  0.092149  0.021161\n",
       "5      RandomForestRegressor  0.093598  0.027035\n",
       "4                        SVR  0.118373  0.027233\n",
       "8               MLPRegressor  0.125809  0.069285\n",
       "7            VotingRegressor  0.135782  0.076322\n",
       "3              BayesianRidge  0.204234  0.206265\n",
       "1                      Ridge  0.217434  0.206341\n",
       "0           LinearRegression  0.227946  0.212838\n",
       "2                      Lasso  0.261325  0.025370"
      ]
     },
     "execution_count": 32,
     "metadata": {},
     "output_type": "execute_result"
    }
   ],
   "source": [
    "df = pd.DataFrame(data=data, columns=[\"Model\", \"RMSE\", \"STD DEV\"])\n",
    "df = df.sort_values(by=\"RMSE\", ascending=True)\n",
    "df"
   ]
  },
  {
   "cell_type": "markdown",
   "metadata": {
    "Collapsed": "false"
   },
   "source": [
    "# Train a model on the full dataset for usage within the API"
   ]
  },
  {
   "cell_type": "code",
   "execution_count": 39,
   "metadata": {
    "Collapsed": "false"
   },
   "outputs": [],
   "source": [
    "clf = RandomForestRegressor(n_estimators=500)\n",
    "\n",
    "clf.fit(\n",
    "    X, \n",
    "    y\n",
    ")\n",
    "\n",
    "with open(\"./RandomForest.pkl\", 'wb') as fp:\n",
    "    pickle.dump(clf, fp)"
   ]
  },
  {
   "cell_type": "markdown",
   "metadata": {
    "Collapsed": "false"
   },
   "source": [
    "# Compute Feature Importance on the Training Set"
   ]
  },
  {
   "cell_type": "code",
   "execution_count": 42,
   "metadata": {
    "Collapsed": "false"
   },
   "outputs": [],
   "source": [
    "feature_names = np.array([\n",
    "    \"HC Air Temperature [°C] (avg)\",\n",
    "    \"HC Air Temperature [°C] (max)\",\n",
    "    \"HC Air Temperature [°C] (min)\",\n",
    "    \n",
    "    \"Precipitation [mm] (sum)\",\n",
    "    \n",
    "    \"Leaf Temperature (IR) [°C] (avg)\",\n",
    "    \"Leaf Temperature (IR) [°C] (max)\",\n",
    "    \"Leaf Temperature (IR) [°C] (min)\",\n",
    "    \n",
    "    \"Leaf Temperature (IR) [°C] (avg)\",\n",
    "    \"Leaf Temperature (IR) [°C] (max)\",\n",
    "    \"Leaf Temperature (IR) [°C] (min)\",\n",
    "    \n",
    "    \"EAG Soil Moisture [%] (0 cm)\",\n",
    "    \"EAG Soil Moisture [%] (10 cm)\",\n",
    "    \"EAG Soil Moisture [%] (20 cm)\",\n",
    "    \"EAG Soil Moisture [%] (30 cm)\",\n",
    "    \"EAG Soil Moisture [%] (40 cm)\",\n",
    "    \"EAG Soil Moisture [%] (50 cm)\",\n",
    "    \n",
    "    \"Soil Temperature [°C]  0 cm (avg)\",\n",
    "    \"Soil Temperature [°C]  0 cm (max)\",\n",
    "    \"Soil Temperature [°C]  0 cm (min)\",\n",
    "    \n",
    "    \"Soil Temperature [°C]  10 cm (avg)\",\n",
    "    \"Soil Temperature [°C]  10 cm (max)\",\n",
    "    \"Soil Temperature [°C]  10 cm (min)\",\n",
    "    \n",
    "    \"Soil Temperature [°C]  20 cm (avg)\",\n",
    "    \"Soil Temperature [°C]  20 cm (max)\",\n",
    "    \"Soil Temperature [°C]  20 cm (min)\",\n",
    "    \n",
    "    \"Soil Temperature [°C]  30 cm (avg)\",\n",
    "    \"Soil Temperature [°C]  30 cm (max)\",\n",
    "    \"Soil Temperature [°C]  30 cm (min)\",\n",
    "    \n",
    "    \"Soil Temperature [°C]  40 cm (avg)\",\n",
    "    \"Soil Temperature [°C]  40 cm (max)\",\n",
    "    \"Soil Temperature [°C]  40 cm (min)\",\n",
    "    \n",
    "    \"Soil Temperature [°C]  50 cm (avg)\",\n",
    "    \"Soil Temperature [°C]  50 cm (max)\",\n",
    "    \"Soil Temperature [°C]  50 cm (min)\",\n",
    "    \n",
    "    \"Daily ET0 [mm]\"\n",
    "])"
   ]
  },
  {
   "cell_type": "code",
   "execution_count": 43,
   "metadata": {
    "Collapsed": "false"
   },
   "outputs": [
    {
     "data": {
      "image/png": "[encoded data removed]",
      "text/plain": [
       "<Figure size 1152x432 with 1 Axes>"
      ]
     },
     "metadata": {
      "needs_background": "light"
     },
     "output_type": "display_data"
    }
   ],
   "source": [
    "importances = clf.feature_importances_\n",
    "indices = np.argsort(importances)[::-1]\n",
    "\n",
    "indices = indices[:15]\n",
    "\n",
    "# Plot the impurity-based feature importances of the forest\n",
    "plt.figure(figsize=(16,6))\n",
    "plt.title(\"Feature importance\")\n",
    "plt.bar(np.arange(indices.size), importances[indices], color=\"red\", align=\"center\")\n",
    "plt.xticks(np.arange(indices.size), feature_names[indices],  rotation=45, ha='right')\n",
    "plt.xlim([-1, indices.size])\n",
    "plt.show()"
   ]
  }
 ],
 "metadata": {
  "kernelspec": {
   "display_name": "Python 3.6",
   "language": "python",
   "name": "python3"
  },
  "language_info": {
   "codemirror_mode": {
    "name": "ipython",
    "version": 3
   },
   "file_extension": ".py",
   "mimetype": "text/x-python",
   "name": "python",
   "nbconvert_exporter": "python",
   "pygments_lexer": "ipython3",
   "version": "3.6.9"
  }
 },
 "nbformat": 4,
 "nbformat_minor": 4
}
